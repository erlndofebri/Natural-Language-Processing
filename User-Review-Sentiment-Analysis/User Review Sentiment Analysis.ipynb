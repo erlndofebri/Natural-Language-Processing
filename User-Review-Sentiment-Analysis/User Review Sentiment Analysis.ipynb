{
 "cells": [
  {
   "cell_type": "markdown",
   "id": "3ccbf419",
   "metadata": {},
   "source": [
    "# Importing the datasets"
   ]
  },
  {
   "cell_type": "code",
   "execution_count": 49,
   "id": "55ae4fbf",
   "metadata": {
    "ExecuteTime": {
     "end_time": "2022-07-14T09:17:17.260403Z",
     "start_time": "2022-07-14T09:17:15.800283Z"
    }
   },
   "outputs": [],
   "source": [
    "import numpy as np\n",
    "import pandas as pd\n",
    "import matplotlib.pyplot as plt\n",
    "import seaborn as sns\n",
    "\n",
    "import spacy\n",
    "nlp = spacy.load('en_core_web_sm')\n",
    "\n",
    "# Set option max columns display\n",
    "pd.set_option('max_colwidth', 550)\n",
    "pd.set_option('max_info_rows', 500)"
   ]
  },
  {
   "cell_type": "markdown",
   "id": "24d98d17",
   "metadata": {},
   "source": [
    "# Dataset Overview"
   ]
  },
  {
   "cell_type": "code",
   "execution_count": 19,
   "id": "ae2e165f",
   "metadata": {
    "ExecuteTime": {
     "end_time": "2022-07-14T07:46:35.228735Z",
     "start_time": "2022-07-14T07:46:35.178239Z"
    }
   },
   "outputs": [
    {
     "data": {
      "text/html": [
       "<div>\n",
       "<style scoped>\n",
       "    .dataframe tbody tr th:only-of-type {\n",
       "        vertical-align: middle;\n",
       "    }\n",
       "\n",
       "    .dataframe tbody tr th {\n",
       "        vertical-align: top;\n",
       "    }\n",
       "\n",
       "    .dataframe thead th {\n",
       "        text-align: right;\n",
       "    }\n",
       "</style>\n",
       "<table border=\"1\" class=\"dataframe\">\n",
       "  <thead>\n",
       "    <tr style=\"text-align: right;\">\n",
       "      <th></th>\n",
       "      <th>Review</th>\n",
       "      <th>Sentiment</th>\n",
       "    </tr>\n",
       "  </thead>\n",
       "  <tbody>\n",
       "    <tr>\n",
       "      <th>0</th>\n",
       "      <td>Wow... Loved this place.</td>\n",
       "      <td>1</td>\n",
       "    </tr>\n",
       "    <tr>\n",
       "      <th>1</th>\n",
       "      <td>Crust is not good.</td>\n",
       "      <td>0</td>\n",
       "    </tr>\n",
       "    <tr>\n",
       "      <th>2</th>\n",
       "      <td>Not tasty and the texture was just nasty.</td>\n",
       "      <td>0</td>\n",
       "    </tr>\n",
       "    <tr>\n",
       "      <th>3</th>\n",
       "      <td>Stopped by during the late May bank holiday off Rick Steve recommendation and loved it.</td>\n",
       "      <td>1</td>\n",
       "    </tr>\n",
       "    <tr>\n",
       "      <th>4</th>\n",
       "      <td>The selection on the menu was great and so were the prices.</td>\n",
       "      <td>1</td>\n",
       "    </tr>\n",
       "  </tbody>\n",
       "</table>\n",
       "</div>"
      ],
      "text/plain": [
       "                                                                                    Review  \\\n",
       "0                                                                 Wow... Loved this place.   \n",
       "1                                                                       Crust is not good.   \n",
       "2                                                Not tasty and the texture was just nasty.   \n",
       "3  Stopped by during the late May bank holiday off Rick Steve recommendation and loved it.   \n",
       "4                              The selection on the menu was great and so were the prices.   \n",
       "\n",
       "   Sentiment  \n",
       "0          1  \n",
       "1          0  \n",
       "2          0  \n",
       "3          1  \n",
       "4          1  "
      ]
     },
     "execution_count": 19,
     "metadata": {},
     "output_type": "execute_result"
    }
   ],
   "source": [
    "# Import Yelp Dataset\n",
    "data_yelp = pd.read_csv('yelp_labelled.txt', sep='\\t',header=None)\n",
    "columan_name = ['Review', 'Sentiment']\n",
    "data_yelp.columns = columan_name\n",
    "data_yelp.head()"
   ]
  },
  {
   "cell_type": "code",
   "execution_count": 20,
   "id": "3459de30",
   "metadata": {
    "ExecuteTime": {
     "end_time": "2022-07-14T07:46:37.810736Z",
     "start_time": "2022-07-14T07:46:37.795519Z"
    }
   },
   "outputs": [
    {
     "name": "stdout",
     "output_type": "stream",
     "text": [
      "Dataset Yelp Contains of 1000 Rows\n"
     ]
    }
   ],
   "source": [
    "print(f'Dataset Yelp Contains of {data_yelp.shape[0]} Rows')"
   ]
  },
  {
   "cell_type": "code",
   "execution_count": 23,
   "id": "94922325",
   "metadata": {
    "ExecuteTime": {
     "end_time": "2022-07-14T07:48:05.634376Z",
     "start_time": "2022-07-14T07:48:05.622161Z"
    }
   },
   "outputs": [
    {
     "data": {
      "text/plain": [
       "Review       0\n",
       "Sentiment    0\n",
       "dtype: int64"
      ]
     },
     "execution_count": 23,
     "metadata": {},
     "output_type": "execute_result"
    }
   ],
   "source": [
    "# check missing values\n",
    "data_yelp.isnull().sum()"
   ]
  },
  {
   "cell_type": "code",
   "execution_count": 24,
   "id": "7606d0ea",
   "metadata": {
    "ExecuteTime": {
     "end_time": "2022-07-14T07:48:22.647361Z",
     "start_time": "2022-07-14T07:48:22.635225Z"
    }
   },
   "outputs": [
    {
     "data": {
      "text/plain": [
       "4"
      ]
     },
     "execution_count": 24,
     "metadata": {},
     "output_type": "execute_result"
    }
   ],
   "source": [
    "# check duplicate data\n",
    "data_yelp.duplicated().sum()"
   ]
  },
  {
   "cell_type": "code",
   "execution_count": 25,
   "id": "06ee905c",
   "metadata": {
    "ExecuteTime": {
     "end_time": "2022-07-14T07:48:49.977589Z",
     "start_time": "2022-07-14T07:48:49.949588Z"
    }
   },
   "outputs": [
    {
     "data": {
      "text/plain": [
       "0"
      ]
     },
     "execution_count": 25,
     "metadata": {},
     "output_type": "execute_result"
    }
   ],
   "source": [
    "# drop duplicate\n",
    "data_yelp.drop_duplicates(inplace=True)\n",
    "data_yelp.duplicated().sum()"
   ]
  },
  {
   "cell_type": "code",
   "execution_count": 16,
   "id": "0eb70f27",
   "metadata": {
    "ExecuteTime": {
     "end_time": "2022-07-14T07:45:30.883123Z",
     "start_time": "2022-07-14T07:45:30.850966Z"
    }
   },
   "outputs": [
    {
     "data": {
      "text/html": [
       "<div>\n",
       "<style scoped>\n",
       "    .dataframe tbody tr th:only-of-type {\n",
       "        vertical-align: middle;\n",
       "    }\n",
       "\n",
       "    .dataframe tbody tr th {\n",
       "        vertical-align: top;\n",
       "    }\n",
       "\n",
       "    .dataframe thead th {\n",
       "        text-align: right;\n",
       "    }\n",
       "</style>\n",
       "<table border=\"1\" class=\"dataframe\">\n",
       "  <thead>\n",
       "    <tr style=\"text-align: right;\">\n",
       "      <th></th>\n",
       "      <th>Review</th>\n",
       "      <th>Sentiment</th>\n",
       "    </tr>\n",
       "  </thead>\n",
       "  <tbody>\n",
       "    <tr>\n",
       "      <th>0</th>\n",
       "      <td>So there is no way for me to plug it in here in the US unless I go by a converter.</td>\n",
       "      <td>0</td>\n",
       "    </tr>\n",
       "    <tr>\n",
       "      <th>1</th>\n",
       "      <td>Good case, Excellent value.</td>\n",
       "      <td>1</td>\n",
       "    </tr>\n",
       "    <tr>\n",
       "      <th>2</th>\n",
       "      <td>Great for the jawbone.</td>\n",
       "      <td>1</td>\n",
       "    </tr>\n",
       "    <tr>\n",
       "      <th>3</th>\n",
       "      <td>Tied to charger for conversations lasting more than 45 minutes.MAJOR PROBLEMS!!</td>\n",
       "      <td>0</td>\n",
       "    </tr>\n",
       "    <tr>\n",
       "      <th>4</th>\n",
       "      <td>The mic is great.</td>\n",
       "      <td>1</td>\n",
       "    </tr>\n",
       "  </tbody>\n",
       "</table>\n",
       "</div>"
      ],
      "text/plain": [
       "                                                                               Review  \\\n",
       "0  So there is no way for me to plug it in here in the US unless I go by a converter.   \n",
       "1                                                         Good case, Excellent value.   \n",
       "2                                                              Great for the jawbone.   \n",
       "3     Tied to charger for conversations lasting more than 45 minutes.MAJOR PROBLEMS!!   \n",
       "4                                                                   The mic is great.   \n",
       "\n",
       "   Sentiment  \n",
       "0          0  \n",
       "1          1  \n",
       "2          1  \n",
       "3          0  \n",
       "4          1  "
      ]
     },
     "execution_count": 16,
     "metadata": {},
     "output_type": "execute_result"
    }
   ],
   "source": [
    "# Import Amazon Dataset\n",
    "data_amazon = pd.read_csv('amazon_cells_labelled.txt',sep='\\t',header=None)\n",
    "data_amazon.columns = columan_name\n",
    "data_amazon.head() # 0-Negative, 1-Positive for positive review"
   ]
  },
  {
   "cell_type": "code",
   "execution_count": 21,
   "id": "994e8499",
   "metadata": {
    "ExecuteTime": {
     "end_time": "2022-07-14T07:46:50.643508Z",
     "start_time": "2022-07-14T07:46:50.636840Z"
    }
   },
   "outputs": [
    {
     "name": "stdout",
     "output_type": "stream",
     "text": [
      "Dataset Amazon Contains of 1000 Rows\n"
     ]
    }
   ],
   "source": [
    "print(f'Dataset Amazon Contains of {data_amazon.shape[0]} Rows')"
   ]
  },
  {
   "cell_type": "code",
   "execution_count": 26,
   "id": "ec43875f",
   "metadata": {
    "ExecuteTime": {
     "end_time": "2022-07-14T07:49:08.073672Z",
     "start_time": "2022-07-14T07:49:08.060815Z"
    }
   },
   "outputs": [
    {
     "data": {
      "text/plain": [
       "Review       0\n",
       "Sentiment    0\n",
       "dtype: int64"
      ]
     },
     "execution_count": 26,
     "metadata": {},
     "output_type": "execute_result"
    }
   ],
   "source": [
    "# check missing values\n",
    "data_amazon.isnull().sum()"
   ]
  },
  {
   "cell_type": "code",
   "execution_count": 28,
   "id": "d683f9a6",
   "metadata": {
    "ExecuteTime": {
     "end_time": "2022-07-14T07:49:35.337313Z",
     "start_time": "2022-07-14T07:49:35.325909Z"
    }
   },
   "outputs": [
    {
     "data": {
      "text/plain": [
       "10"
      ]
     },
     "execution_count": 28,
     "metadata": {},
     "output_type": "execute_result"
    }
   ],
   "source": [
    "# check dupplicate data\n",
    "data_amazon.duplicated().sum()"
   ]
  },
  {
   "cell_type": "code",
   "execution_count": 29,
   "id": "9d28a4f9",
   "metadata": {
    "ExecuteTime": {
     "end_time": "2022-07-14T07:50:00.856776Z",
     "start_time": "2022-07-14T07:50:00.842530Z"
    }
   },
   "outputs": [
    {
     "data": {
      "text/plain": [
       "0"
      ]
     },
     "execution_count": 29,
     "metadata": {},
     "output_type": "execute_result"
    }
   ],
   "source": [
    "data_amazon.drop_duplicates(inplace=True)\n",
    "data_amazon.duplicated().sum()"
   ]
  },
  {
   "cell_type": "code",
   "execution_count": 18,
   "id": "5b24b794",
   "metadata": {
    "ExecuteTime": {
     "end_time": "2022-07-14T07:46:09.394277Z",
     "start_time": "2022-07-14T07:46:09.368776Z"
    }
   },
   "outputs": [
    {
     "data": {
      "text/html": [
       "<div>\n",
       "<style scoped>\n",
       "    .dataframe tbody tr th:only-of-type {\n",
       "        vertical-align: middle;\n",
       "    }\n",
       "\n",
       "    .dataframe tbody tr th {\n",
       "        vertical-align: top;\n",
       "    }\n",
       "\n",
       "    .dataframe thead th {\n",
       "        text-align: right;\n",
       "    }\n",
       "</style>\n",
       "<table border=\"1\" class=\"dataframe\">\n",
       "  <thead>\n",
       "    <tr style=\"text-align: right;\">\n",
       "      <th></th>\n",
       "      <th>Review</th>\n",
       "      <th>Sentiment</th>\n",
       "    </tr>\n",
       "  </thead>\n",
       "  <tbody>\n",
       "    <tr>\n",
       "      <th>0</th>\n",
       "      <td>A very, very, very slow-moving, aimless movie about a distressed, drifting young man.</td>\n",
       "      <td>0</td>\n",
       "    </tr>\n",
       "    <tr>\n",
       "      <th>1</th>\n",
       "      <td>Not sure who was more lost - the flat characters or the audience, nearly half of whom walked out.</td>\n",
       "      <td>0</td>\n",
       "    </tr>\n",
       "    <tr>\n",
       "      <th>2</th>\n",
       "      <td>Attempting artiness with black &amp; white and clever camera angles, the movie disappointed - became even more ridiculous - as the acting was poor and the plot and lines almost non-existent.</td>\n",
       "      <td>0</td>\n",
       "    </tr>\n",
       "    <tr>\n",
       "      <th>3</th>\n",
       "      <td>Very little music or anything to speak of.</td>\n",
       "      <td>0</td>\n",
       "    </tr>\n",
       "    <tr>\n",
       "      <th>4</th>\n",
       "      <td>The best scene in the movie was when Gerardo is trying to find a song that keeps running through his head.</td>\n",
       "      <td>1</td>\n",
       "    </tr>\n",
       "  </tbody>\n",
       "</table>\n",
       "</div>"
      ],
      "text/plain": [
       "                                                                                                                                                                                         Review  \\\n",
       "0                                                                                                       A very, very, very slow-moving, aimless movie about a distressed, drifting young man.     \n",
       "1                                                                                           Not sure who was more lost - the flat characters or the audience, nearly half of whom walked out.     \n",
       "2  Attempting artiness with black & white and clever camera angles, the movie disappointed - became even more ridiculous - as the acting was poor and the plot and lines almost non-existent.     \n",
       "3                                                                                                                                                  Very little music or anything to speak of.     \n",
       "4                                                                                  The best scene in the movie was when Gerardo is trying to find a song that keeps running through his head.     \n",
       "\n",
       "   Sentiment  \n",
       "0          0  \n",
       "1          0  \n",
       "2          0  \n",
       "3          0  \n",
       "4          1  "
      ]
     },
     "execution_count": 18,
     "metadata": {},
     "output_type": "execute_result"
    }
   ],
   "source": [
    "# import Data IMDB\n",
    "data_imdb = pd.read_csv('imdb_labelled.txt',sep='\\t',header=None)\n",
    "data_imdb.columns = columan_name\n",
    "data_imdb.head()"
   ]
  },
  {
   "cell_type": "code",
   "execution_count": 22,
   "id": "3149757c",
   "metadata": {
    "ExecuteTime": {
     "end_time": "2022-07-14T07:47:03.755954Z",
     "start_time": "2022-07-14T07:47:03.748246Z"
    }
   },
   "outputs": [
    {
     "name": "stdout",
     "output_type": "stream",
     "text": [
      "Dataset IMDB Contains of 748 Rows\n"
     ]
    }
   ],
   "source": [
    "print(f'Dataset IMDB Contains of {data_imdb.shape[0]} Rows')"
   ]
  },
  {
   "cell_type": "code",
   "execution_count": 30,
   "id": "bf69fdc2",
   "metadata": {
    "ExecuteTime": {
     "end_time": "2022-07-14T07:50:15.994187Z",
     "start_time": "2022-07-14T07:50:15.981016Z"
    }
   },
   "outputs": [
    {
     "data": {
      "text/plain": [
       "Review       0\n",
       "Sentiment    0\n",
       "dtype: int64"
      ]
     },
     "execution_count": 30,
     "metadata": {},
     "output_type": "execute_result"
    }
   ],
   "source": [
    "# check missing values \n",
    "data_imdb.isnull().sum()"
   ]
  },
  {
   "cell_type": "code",
   "execution_count": 31,
   "id": "f88e75f6",
   "metadata": {
    "ExecuteTime": {
     "end_time": "2022-07-14T07:50:28.243633Z",
     "start_time": "2022-07-14T07:50:28.231481Z"
    }
   },
   "outputs": [
    {
     "data": {
      "text/plain": [
       "3"
      ]
     },
     "execution_count": 31,
     "metadata": {},
     "output_type": "execute_result"
    }
   ],
   "source": [
    "# check duplicate\n",
    "data_imdb.duplicated().sum()"
   ]
  },
  {
   "cell_type": "code",
   "execution_count": 32,
   "id": "cecbf5ad",
   "metadata": {
    "ExecuteTime": {
     "end_time": "2022-07-14T07:50:50.042160Z",
     "start_time": "2022-07-14T07:50:50.004698Z"
    }
   },
   "outputs": [
    {
     "data": {
      "text/plain": [
       "0"
      ]
     },
     "execution_count": 32,
     "metadata": {},
     "output_type": "execute_result"
    }
   ],
   "source": [
    "# drop duplicate\n",
    "data_imdb.drop_duplicates(inplace=True)\n",
    "data_imdb.duplicated().sum()"
   ]
  },
  {
   "cell_type": "code",
   "execution_count": 33,
   "id": "b10b0db3",
   "metadata": {
    "ExecuteTime": {
     "end_time": "2022-07-14T07:51:19.717019Z",
     "start_time": "2022-07-14T07:51:19.701453Z"
    }
   },
   "outputs": [
    {
     "data": {
      "text/html": [
       "<div>\n",
       "<style scoped>\n",
       "    .dataframe tbody tr th:only-of-type {\n",
       "        vertical-align: middle;\n",
       "    }\n",
       "\n",
       "    .dataframe tbody tr th {\n",
       "        vertical-align: top;\n",
       "    }\n",
       "\n",
       "    .dataframe thead th {\n",
       "        text-align: right;\n",
       "    }\n",
       "</style>\n",
       "<table border=\"1\" class=\"dataframe\">\n",
       "  <thead>\n",
       "    <tr style=\"text-align: right;\">\n",
       "      <th></th>\n",
       "      <th>Review</th>\n",
       "      <th>Sentiment</th>\n",
       "    </tr>\n",
       "  </thead>\n",
       "  <tbody>\n",
       "    <tr>\n",
       "      <th>0</th>\n",
       "      <td>Wow... Loved this place.</td>\n",
       "      <td>1</td>\n",
       "    </tr>\n",
       "    <tr>\n",
       "      <th>1</th>\n",
       "      <td>Crust is not good.</td>\n",
       "      <td>0</td>\n",
       "    </tr>\n",
       "    <tr>\n",
       "      <th>2</th>\n",
       "      <td>Not tasty and the texture was just nasty.</td>\n",
       "      <td>0</td>\n",
       "    </tr>\n",
       "    <tr>\n",
       "      <th>3</th>\n",
       "      <td>Stopped by during the late May bank holiday off Rick Steve recommendation and loved it.</td>\n",
       "      <td>1</td>\n",
       "    </tr>\n",
       "    <tr>\n",
       "      <th>4</th>\n",
       "      <td>The selection on the menu was great and so were the prices.</td>\n",
       "      <td>1</td>\n",
       "    </tr>\n",
       "  </tbody>\n",
       "</table>\n",
       "</div>"
      ],
      "text/plain": [
       "                                                                                    Review  \\\n",
       "0                                                                 Wow... Loved this place.   \n",
       "1                                                                       Crust is not good.   \n",
       "2                                                Not tasty and the texture was just nasty.   \n",
       "3  Stopped by during the late May bank holiday off Rick Steve recommendation and loved it.   \n",
       "4                              The selection on the menu was great and so were the prices.   \n",
       "\n",
       "   Sentiment  \n",
       "0          1  \n",
       "1          0  \n",
       "2          0  \n",
       "3          1  \n",
       "4          1  "
      ]
     },
     "execution_count": 33,
     "metadata": {},
     "output_type": "execute_result"
    }
   ],
   "source": [
    "# Append all the data in a single dataframe\n",
    "data = data_yelp.append([data_amazon, data_imdb],ignore_index=True)\n",
    "data.head()"
   ]
  },
  {
   "cell_type": "code",
   "execution_count": 34,
   "id": "b378c106",
   "metadata": {
    "ExecuteTime": {
     "end_time": "2022-07-14T07:51:45.593191Z",
     "start_time": "2022-07-14T07:51:45.561235Z"
    }
   },
   "outputs": [
    {
     "name": "stdout",
     "output_type": "stream",
     "text": [
      "Dataset Contains of 2731 Rows\n"
     ]
    }
   ],
   "source": [
    "print(f'Dataset Contains of {data.shape[0]} Rows')"
   ]
  },
  {
   "cell_type": "code",
   "execution_count": 36,
   "id": "f0dd5c65",
   "metadata": {
    "ExecuteTime": {
     "end_time": "2022-07-14T07:52:07.464813Z",
     "start_time": "2022-07-14T07:52:07.442250Z"
    }
   },
   "outputs": [
    {
     "data": {
      "text/plain": [
       "1    1376\n",
       "0    1355\n",
       "Name: Sentiment, dtype: int64"
      ]
     },
     "execution_count": 36,
     "metadata": {},
     "output_type": "execute_result"
    }
   ],
   "source": [
    "data['Sentiment'].value_counts()"
   ]
  },
  {
   "cell_type": "markdown",
   "id": "d31661d6",
   "metadata": {},
   "source": [
    "# Data Preprocessing"
   ]
  },
  {
   "cell_type": "code",
   "execution_count": null,
   "id": "b4659ece",
   "metadata": {},
   "outputs": [],
   "source": [
    "# here we will remove stopwords, punctuations\n",
    "# as well as we will apply lemmatization"
   ]
  },
  {
   "cell_type": "markdown",
   "id": "081ee98c",
   "metadata": {},
   "source": [
    "## Create Cleaning Function"
   ]
  },
  {
   "cell_type": "code",
   "execution_count": 37,
   "id": "94e0631a",
   "metadata": {
    "ExecuteTime": {
     "end_time": "2022-07-14T08:10:35.793339Z",
     "start_time": "2022-07-14T08:10:35.783053Z"
    }
   },
   "outputs": [
    {
     "data": {
      "text/plain": [
       "'!\"#$%&\\'()*+,-./:;<=>?@[\\\\]^_`{|}~'"
      ]
     },
     "execution_count": 37,
     "metadata": {},
     "output_type": "execute_result"
    }
   ],
   "source": [
    "import string\n",
    "punct = string.punctuation\n",
    "punct"
   ]
  },
  {
   "cell_type": "code",
   "execution_count": 38,
   "id": "bda386e1",
   "metadata": {
    "ExecuteTime": {
     "end_time": "2022-07-14T08:11:08.262966Z",
     "start_time": "2022-07-14T08:11:08.246886Z"
    }
   },
   "outputs": [
    {
     "data": {
      "text/plain": [
       "['when',\n",
       " 'namely',\n",
       " 'unless',\n",
       " 're',\n",
       " 'since',\n",
       " 'twenty',\n",
       " 'any',\n",
       " 'eleven',\n",
       " '’d',\n",
       " 'more',\n",
       " 'side',\n",
       " 'enough',\n",
       " 'well',\n",
       " 'am',\n",
       " 'that',\n",
       " 'off',\n",
       " '’ll',\n",
       " 'used',\n",
       " 'upon',\n",
       " 'anything',\n",
       " 'during',\n",
       " 'few',\n",
       " 'within',\n",
       " 'forty',\n",
       " 'full',\n",
       " 'can',\n",
       " 'n‘t',\n",
       " 'those',\n",
       " 'among',\n",
       " 'whereas',\n",
       " 'cannot',\n",
       " 'former',\n",
       " 'seem',\n",
       " 'has',\n",
       " 'done',\n",
       " 'towards',\n",
       " 'move',\n",
       " 'them',\n",
       " 'your',\n",
       " 'moreover',\n",
       " 'she',\n",
       " 'should',\n",
       " 'anyway',\n",
       " 'top',\n",
       " 'yours',\n",
       " 'himself',\n",
       " 'about',\n",
       " 'sometime',\n",
       " 'across',\n",
       " 'why',\n",
       " 'become',\n",
       " 'everyone',\n",
       " 'keep',\n",
       " 'someone',\n",
       " 'next',\n",
       " 'further',\n",
       " 'thus',\n",
       " 'much',\n",
       " 'still',\n",
       " 'is',\n",
       " 'her',\n",
       " 'afterwards',\n",
       " 'be',\n",
       " 'indeed',\n",
       " 'almost',\n",
       " 'front',\n",
       " 'as',\n",
       " 'were',\n",
       " 'until',\n",
       " 'thence',\n",
       " 'without',\n",
       " 'hers',\n",
       " 'but',\n",
       " 'under',\n",
       " 'hundred',\n",
       " '’ve',\n",
       " 'down',\n",
       " 'and',\n",
       " 'empty',\n",
       " 'ever',\n",
       " 'noone',\n",
       " '‘s',\n",
       " 'such',\n",
       " 'other',\n",
       " 'one',\n",
       " 'never',\n",
       " 'itself',\n",
       " 'to',\n",
       " 'whatever',\n",
       " 'formerly',\n",
       " 'really',\n",
       " 'hereby',\n",
       " 'all',\n",
       " 'quite',\n",
       " \"'m\",\n",
       " 'by',\n",
       " 'anyone',\n",
       " 'say',\n",
       " 'seems',\n",
       " 'beside',\n",
       " 'around',\n",
       " '‘d',\n",
       " 'herself',\n",
       " 'although',\n",
       " 'various',\n",
       " 'thru',\n",
       " 'was',\n",
       " 'everything',\n",
       " 'sixty',\n",
       " 'out',\n",
       " \"'d\",\n",
       " 'mostly',\n",
       " 'each',\n",
       " 'doing',\n",
       " 'becoming',\n",
       " 'i',\n",
       " 'please',\n",
       " 'themselves',\n",
       " 'just',\n",
       " 'again',\n",
       " 'eight',\n",
       " 'made',\n",
       " 'will',\n",
       " '‘m',\n",
       " 'which',\n",
       " 'whereafter',\n",
       " 'have',\n",
       " 'show',\n",
       " 'no',\n",
       " 'our',\n",
       " 'thereby',\n",
       " 'regarding',\n",
       " 'using',\n",
       " 'us',\n",
       " 'myself',\n",
       " 'latter',\n",
       " 'fifty',\n",
       " 'least',\n",
       " 'call',\n",
       " 'did',\n",
       " 'we',\n",
       " 'does',\n",
       " 'less',\n",
       " 'could',\n",
       " 'go',\n",
       " 'this',\n",
       " 'they',\n",
       " 'two',\n",
       " 'whole',\n",
       " 'whereby',\n",
       " 'how',\n",
       " 'so',\n",
       " 'there',\n",
       " 'throughout',\n",
       " 'via',\n",
       " 'both',\n",
       " 'while',\n",
       " 'something',\n",
       " 'hereafter',\n",
       " 'he',\n",
       " 'where',\n",
       " 'whence',\n",
       " \"'ve\",\n",
       " 'alone',\n",
       " 'n’t',\n",
       " '‘ll',\n",
       " 'from',\n",
       " 'a',\n",
       " \"n't\",\n",
       " 'amongst',\n",
       " 'yet',\n",
       " 'back',\n",
       " 'beyond',\n",
       " 'several',\n",
       " 'over',\n",
       " 'then',\n",
       " '‘ve',\n",
       " 'if',\n",
       " 'you',\n",
       " 'anywhere',\n",
       " 'between',\n",
       " 'anyhow',\n",
       " 'whereupon',\n",
       " 'besides',\n",
       " 'four',\n",
       " \"'ll\",\n",
       " 'amount',\n",
       " 'had',\n",
       " 'even',\n",
       " 'see',\n",
       " 'became',\n",
       " 'seemed',\n",
       " 'make',\n",
       " 'neither',\n",
       " 'too',\n",
       " 'on',\n",
       " 'some',\n",
       " 'five',\n",
       " 'seeming',\n",
       " 'it',\n",
       " 'nor',\n",
       " 'against',\n",
       " 'part',\n",
       " 'once',\n",
       " 'after',\n",
       " 'hereupon',\n",
       " 'an',\n",
       " 'along',\n",
       " 'therefore',\n",
       " 'always',\n",
       " 'mine',\n",
       " 'above',\n",
       " 'give',\n",
       " 'up',\n",
       " 'last',\n",
       " 'now',\n",
       " 'six',\n",
       " 'becomes',\n",
       " 'per',\n",
       " 'else',\n",
       " 'sometimes',\n",
       " 'ca',\n",
       " 'the',\n",
       " 'ourselves',\n",
       " 'either',\n",
       " 'or',\n",
       " 'with',\n",
       " 'everywhere',\n",
       " 'serious',\n",
       " 'take',\n",
       " '‘re',\n",
       " 'nobody',\n",
       " 'together',\n",
       " 'except',\n",
       " 'his',\n",
       " 'of',\n",
       " 'onto',\n",
       " 'somewhere',\n",
       " 'also',\n",
       " 'otherwise',\n",
       " 'wherever',\n",
       " 'him',\n",
       " 'three',\n",
       " \"'re\",\n",
       " 'what',\n",
       " 'bottom',\n",
       " 'beforehand',\n",
       " 'nine',\n",
       " 'latterly',\n",
       " 'whose',\n",
       " \"'s\",\n",
       " 'do',\n",
       " 'others',\n",
       " 'yourselves',\n",
       " 'same',\n",
       " 'its',\n",
       " 'who',\n",
       " 'may',\n",
       " 'most',\n",
       " 'not',\n",
       " 'put',\n",
       " 'very',\n",
       " 'ours',\n",
       " '’s',\n",
       " 'therein',\n",
       " 'hence',\n",
       " 'often',\n",
       " 'whenever',\n",
       " 'already',\n",
       " 'toward',\n",
       " 'due',\n",
       " 'for',\n",
       " 'first',\n",
       " 'thereupon',\n",
       " 'own',\n",
       " 'every',\n",
       " 'twelve',\n",
       " 'nowhere',\n",
       " 'fifteen',\n",
       " 'into',\n",
       " 'at',\n",
       " 'in',\n",
       " 'here',\n",
       " 'perhaps',\n",
       " 'would',\n",
       " 'being',\n",
       " '’re',\n",
       " '’m',\n",
       " 'me',\n",
       " 'get',\n",
       " 'are',\n",
       " 'these',\n",
       " 'than',\n",
       " 'none',\n",
       " 'another',\n",
       " 'wherein',\n",
       " 'my',\n",
       " 'below',\n",
       " 'nothing',\n",
       " 'third',\n",
       " 'before',\n",
       " 'ten',\n",
       " 'because',\n",
       " 'meanwhile',\n",
       " 'their',\n",
       " 'yourself',\n",
       " 'only',\n",
       " 'whom',\n",
       " 'whether',\n",
       " 'thereafter',\n",
       " 'whoever',\n",
       " 'somehow',\n",
       " 'elsewhere',\n",
       " 'many',\n",
       " 'rather',\n",
       " 'whither',\n",
       " 'nevertheless',\n",
       " 'herein',\n",
       " 'must',\n",
       " 'been',\n",
       " 'through',\n",
       " 'however',\n",
       " 'though',\n",
       " 'name',\n",
       " 'behind',\n",
       " 'might']"
      ]
     },
     "execution_count": 38,
     "metadata": {},
     "output_type": "execute_result"
    }
   ],
   "source": [
    "from spacy.lang.en.stop_words import STOP_WORDS\n",
    "stopwords = list(STOP_WORDS) # list of stopwords\n",
    "stopwords"
   ]
  },
  {
   "cell_type": "code",
   "execution_count": 39,
   "id": "16bd30eb",
   "metadata": {
    "ExecuteTime": {
     "end_time": "2022-07-14T08:11:42.627875Z",
     "start_time": "2022-07-14T08:11:42.619718Z"
    }
   },
   "outputs": [],
   "source": [
    "# creating a function for data cleaning\n",
    "\n",
    "# creating a function for data cleaning\n",
    "\n",
    "def text_data_cleaning(sentence):\n",
    "    doc = nlp(sentence)\n",
    "\n",
    "    tokens = [] # list of tokens\n",
    "    for token in doc:\n",
    "        if token.lemma_ != \"-PRON-\":\n",
    "            temp = token.lemma_.lower().strip()\n",
    "        else:\n",
    "            temp = token.lower_\n",
    "        tokens.append(temp)\n",
    "        \n",
    "        \n",
    "    cleaned_tokens = []\n",
    "    for token in tokens:\n",
    "        if token not in stopwords and token not in punct:\n",
    "            cleaned_tokens.append(token)\n",
    "    return cleaned_tokens"
   ]
  },
  {
   "cell_type": "code",
   "execution_count": 40,
   "id": "6aa7f16b",
   "metadata": {
    "ExecuteTime": {
     "end_time": "2022-07-14T08:11:48.575256Z",
     "start_time": "2022-07-14T08:11:48.525480Z"
    }
   },
   "outputs": [
    {
     "data": {
      "text/plain": [
       "['hello', 'beautiful', 'day', 'outside']"
      ]
     },
     "execution_count": 40,
     "metadata": {},
     "output_type": "execute_result"
    }
   ],
   "source": [
    "# if root form of that word is not pronoun then it is going to convert that into lower form\n",
    "# and if that word is a proper noun, then we are directly taking lower form, because there is no lemma for proper noun\n",
    "\n",
    "text_data_cleaning(\"Hello all, It's a beautiful day outside there!\")"
   ]
  },
  {
   "cell_type": "markdown",
   "id": "6b2ccb5a",
   "metadata": {},
   "source": [
    "stopwords and punctuations removed"
   ]
  },
  {
   "cell_type": "markdown",
   "id": "5298be8f",
   "metadata": {},
   "source": [
    "## Split Data"
   ]
  },
  {
   "cell_type": "code",
   "execution_count": 41,
   "id": "acb2a1e5",
   "metadata": {
    "ExecuteTime": {
     "end_time": "2022-07-14T08:12:52.541509Z",
     "start_time": "2022-07-14T08:12:52.529932Z"
    }
   },
   "outputs": [
    {
     "data": {
      "text/html": [
       "<div>\n",
       "<style scoped>\n",
       "    .dataframe tbody tr th:only-of-type {\n",
       "        vertical-align: middle;\n",
       "    }\n",
       "\n",
       "    .dataframe tbody tr th {\n",
       "        vertical-align: top;\n",
       "    }\n",
       "\n",
       "    .dataframe thead th {\n",
       "        text-align: right;\n",
       "    }\n",
       "</style>\n",
       "<table border=\"1\" class=\"dataframe\">\n",
       "  <thead>\n",
       "    <tr style=\"text-align: right;\">\n",
       "      <th></th>\n",
       "      <th>Review</th>\n",
       "      <th>Sentiment</th>\n",
       "    </tr>\n",
       "  </thead>\n",
       "  <tbody>\n",
       "    <tr>\n",
       "      <th>0</th>\n",
       "      <td>Wow... Loved this place.</td>\n",
       "      <td>1</td>\n",
       "    </tr>\n",
       "    <tr>\n",
       "      <th>1</th>\n",
       "      <td>Crust is not good.</td>\n",
       "      <td>0</td>\n",
       "    </tr>\n",
       "    <tr>\n",
       "      <th>2</th>\n",
       "      <td>Not tasty and the texture was just nasty.</td>\n",
       "      <td>0</td>\n",
       "    </tr>\n",
       "    <tr>\n",
       "      <th>3</th>\n",
       "      <td>Stopped by during the late May bank holiday off Rick Steve recommendation and loved it.</td>\n",
       "      <td>1</td>\n",
       "    </tr>\n",
       "    <tr>\n",
       "      <th>4</th>\n",
       "      <td>The selection on the menu was great and so were the prices.</td>\n",
       "      <td>1</td>\n",
       "    </tr>\n",
       "  </tbody>\n",
       "</table>\n",
       "</div>"
      ],
      "text/plain": [
       "                                                                                    Review  \\\n",
       "0                                                                 Wow... Loved this place.   \n",
       "1                                                                       Crust is not good.   \n",
       "2                                                Not tasty and the texture was just nasty.   \n",
       "3  Stopped by during the late May bank holiday off Rick Steve recommendation and loved it.   \n",
       "4                              The selection on the menu was great and so were the prices.   \n",
       "\n",
       "   Sentiment  \n",
       "0          1  \n",
       "1          0  \n",
       "2          0  \n",
       "3          1  \n",
       "4          1  "
      ]
     },
     "execution_count": 41,
     "metadata": {},
     "output_type": "execute_result"
    }
   ],
   "source": [
    "data.head()"
   ]
  },
  {
   "cell_type": "code",
   "execution_count": 42,
   "id": "977c8f1e",
   "metadata": {
    "ExecuteTime": {
     "end_time": "2022-07-14T08:13:08.744894Z",
     "start_time": "2022-07-14T08:13:07.611548Z"
    }
   },
   "outputs": [
    {
     "data": {
      "text/plain": [
       "((2184,), (547,), (2184,), (547,))"
      ]
     },
     "execution_count": 42,
     "metadata": {},
     "output_type": "execute_result"
    }
   ],
   "source": [
    "# Splitting the dataset\n",
    "from sklearn.model_selection import train_test_split\n",
    "x_train, x_test, y_train, y_test = train_test_split(data['Review'], \n",
    "                                                    data['Sentiment'], \n",
    "                                                    test_size = 0.2, \n",
    "                                                    random_state = 123)\n",
    "\n",
    "x_train.shape, x_test.shape, y_train.shape, y_test.shape"
   ]
  },
  {
   "cell_type": "markdown",
   "id": "a7f18d08",
   "metadata": {},
   "source": [
    "# Modeling"
   ]
  },
  {
   "cell_type": "code",
   "execution_count": 43,
   "id": "096ddda5",
   "metadata": {
    "ExecuteTime": {
     "end_time": "2022-07-14T08:13:21.986029Z",
     "start_time": "2022-07-14T08:13:21.633563Z"
    }
   },
   "outputs": [],
   "source": [
    "# Import Libraries\n",
    "from sklearn.pipeline import Pipeline\n",
    "from sklearn.feature_extraction.text import TfidfVectorizer\n",
    "\n",
    "from sklearn.linear_model import LogisticRegression\n",
    "from sklearn.tree import DecisionTreeClassifier\n",
    "from sklearn.ensemble import RandomForestClassifier\n",
    "from sklearn.ensemble import AdaBoostClassifier\n",
    "from sklearn.ensemble import GradientBoostingClassifier\n",
    "from xgboost import XGBClassifier\n",
    "from sklearn.svm import LinearSVC\n",
    "\n",
    "from sklearn.metrics import accuracy_score, precision_score, recall_score, f1_score, classification_report, confusion_matrix"
   ]
  },
  {
   "cell_type": "code",
   "execution_count": 44,
   "id": "2c2952a0",
   "metadata": {
    "ExecuteTime": {
     "end_time": "2022-07-14T08:13:57.488894Z",
     "start_time": "2022-07-14T08:13:32.716132Z"
    }
   },
   "outputs": [],
   "source": [
    "# tokenizer=text_data_cleaning, tokenization will be done according to this function\n",
    "lr = Pipeline([(\"tfidf\", TfidfVectorizer(tokenizer=text_data_cleaning)) , (\"classifier\", LogisticRegression())])\n",
    "\n",
    "# it will first do vectorization and then it will do classification\n",
    "lr.fit(x_train, y_train)\n",
    "\n",
    "# Predictions for the X test\n",
    "y_pred_lr = lr.predict(x_test)"
   ]
  },
  {
   "cell_type": "code",
   "execution_count": 45,
   "id": "da4c9124",
   "metadata": {
    "ExecuteTime": {
     "end_time": "2022-07-14T08:17:07.044750Z",
     "start_time": "2022-07-14T08:14:29.242900Z"
    }
   },
   "outputs": [
    {
     "name": "stderr",
     "output_type": "stream",
     "text": [
      "/opt/anaconda3/lib/python3.9/site-packages/xgboost/sklearn.py:1224: UserWarning: The use of label encoder in XGBClassifier is deprecated and will be removed in a future release. To remove this warning, do the following: 1) Pass option use_label_encoder=False when constructing XGBClassifier object; and 2) Encode your labels (y) as integers starting with 0, i.e. 0, 1, 2, ..., [num_class - 1].\n",
      "  warnings.warn(label_encoder_deprecation_msg, UserWarning)\n"
     ]
    },
    {
     "name": "stdout",
     "output_type": "stream",
     "text": [
      "[15:16:17] WARNING: /Users/runner/miniforge3/conda-bld/xgboost-split_1637426408905/work/src/learner.cc:1115: Starting in XGBoost 1.3.0, the default evaluation metric used with the objective 'binary:logistic' was changed from 'error' to 'logloss'. Explicitly set eval_metric if you'd like to restore the old behavior.\n"
     ]
    }
   ],
   "source": [
    "# tokenizer=text_data_cleaning, tokenization will be done according to this function\n",
    "lr = Pipeline([(\"tfidf\", TfidfVectorizer(tokenizer=text_data_cleaning)) , (\"classifier\", LogisticRegression())])\n",
    "dt = Pipeline([(\"tfidf\", TfidfVectorizer(tokenizer=text_data_cleaning)) , (\"classifier\", DecisionTreeClassifier())])\n",
    "rf = Pipeline([(\"tfidf\", TfidfVectorizer(tokenizer=text_data_cleaning)) , (\"classifier\", RandomForestClassifier())])\n",
    "ab = Pipeline([(\"tfidf\", TfidfVectorizer(tokenizer=text_data_cleaning)) , (\"classifier\", AdaBoostClassifier())])\n",
    "gb = Pipeline([(\"tfidf\", TfidfVectorizer(tokenizer=text_data_cleaning)) , (\"classifier\", GradientBoostingClassifier())])\n",
    "xg = Pipeline([(\"tfidf\", TfidfVectorizer(tokenizer=text_data_cleaning)) , (\"classifier\", XGBClassifier())])\n",
    "sv = Pipeline([(\"tfidf\", TfidfVectorizer(tokenizer=text_data_cleaning)) , (\"classifier\", LinearSVC())])\n",
    "\n",
    "# Train the Model\n",
    "# it will first do vectorization and then it will do classification\n",
    "lr.fit(x_train, y_train)\n",
    "dt.fit(x_train, y_train)\n",
    "rf.fit(x_train, y_train)\n",
    "ab.fit(x_train, y_train)\n",
    "gb.fit(x_train, y_train)\n",
    "xg.fit(x_train, y_train)\n",
    "sv.fit(x_train, y_train)\n",
    "\n",
    "# Predictions for the X test\n",
    "y_pred_lr = lr.predict(x_test)\n",
    "y_pred_dt = dt.predict(x_test)\n",
    "y_pred_rf = rf.predict(x_test)\n",
    "y_pred_ab = lr.predict(x_test)\n",
    "y_pred_gb = gb.predict(x_test)\n",
    "y_pred_xg = xg.predict(x_test)\n",
    "y_pred_sv = sv.predict(x_test)"
   ]
  },
  {
   "cell_type": "code",
   "execution_count": 46,
   "id": "3bab6b32",
   "metadata": {
    "ExecuteTime": {
     "end_time": "2022-07-14T08:28:17.606026Z",
     "start_time": "2022-07-14T08:28:17.527185Z"
    }
   },
   "outputs": [
    {
     "name": "stderr",
     "output_type": "stream",
     "text": [
      "/opt/anaconda3/lib/python3.9/site-packages/IPython/core/interactiveshell.py:3444: FutureWarning: Could not cast to float64, falling back to object. This behavior is deprecated. In a future version, when a dtype is passed to 'DataFrame', either all columns will be cast to that dtype, or a TypeError will be raised\n",
      "  exec(code_obj, self.user_global_ns, self.user_ns)\n"
     ]
    },
    {
     "data": {
      "text/html": [
       "<div>\n",
       "<style scoped>\n",
       "    .dataframe tbody tr th:only-of-type {\n",
       "        vertical-align: middle;\n",
       "    }\n",
       "\n",
       "    .dataframe tbody tr th {\n",
       "        vertical-align: top;\n",
       "    }\n",
       "\n",
       "    .dataframe thead th {\n",
       "        text-align: right;\n",
       "    }\n",
       "</style>\n",
       "<table border=\"1\" class=\"dataframe\">\n",
       "  <thead>\n",
       "    <tr style=\"text-align: right;\">\n",
       "      <th></th>\n",
       "      <th>Model</th>\n",
       "      <th>Accuracy</th>\n",
       "      <th>Precision</th>\n",
       "      <th>Recall</th>\n",
       "      <th>F1 Score</th>\n",
       "    </tr>\n",
       "  </thead>\n",
       "  <tbody>\n",
       "    <tr>\n",
       "      <th>0</th>\n",
       "      <td>Logistic Regression</td>\n",
       "      <td>0.813528</td>\n",
       "      <td>0.797101</td>\n",
       "      <td>0.827068</td>\n",
       "      <td>0.811808</td>\n",
       "    </tr>\n",
       "    <tr>\n",
       "      <th>1</th>\n",
       "      <td>Decision Tree</td>\n",
       "      <td>0.764168</td>\n",
       "      <td>0.762452</td>\n",
       "      <td>0.748120</td>\n",
       "      <td>0.755218</td>\n",
       "    </tr>\n",
       "    <tr>\n",
       "      <th>2</th>\n",
       "      <td>Random Forest</td>\n",
       "      <td>0.789762</td>\n",
       "      <td>0.793774</td>\n",
       "      <td>0.766917</td>\n",
       "      <td>0.780115</td>\n",
       "    </tr>\n",
       "    <tr>\n",
       "      <th>3</th>\n",
       "      <td>Ada Boost</td>\n",
       "      <td>0.813528</td>\n",
       "      <td>0.797101</td>\n",
       "      <td>0.827068</td>\n",
       "      <td>0.811808</td>\n",
       "    </tr>\n",
       "    <tr>\n",
       "      <th>4</th>\n",
       "      <td>Gradient Boost</td>\n",
       "      <td>0.755027</td>\n",
       "      <td>0.847368</td>\n",
       "      <td>0.605263</td>\n",
       "      <td>0.706140</td>\n",
       "    </tr>\n",
       "    <tr>\n",
       "      <th>5</th>\n",
       "      <td>XG Boost</td>\n",
       "      <td>0.769653</td>\n",
       "      <td>0.794118</td>\n",
       "      <td>0.710526</td>\n",
       "      <td>0.750000</td>\n",
       "    </tr>\n",
       "    <tr>\n",
       "      <th>6</th>\n",
       "      <td>SVC</td>\n",
       "      <td>0.813528</td>\n",
       "      <td>0.790780</td>\n",
       "      <td>0.838346</td>\n",
       "      <td>0.813869</td>\n",
       "    </tr>\n",
       "  </tbody>\n",
       "</table>\n",
       "</div>"
      ],
      "text/plain": [
       "                 Model  Accuracy  Precision    Recall  F1 Score\n",
       "0  Logistic Regression  0.813528   0.797101  0.827068  0.811808\n",
       "1        Decision Tree  0.764168   0.762452  0.748120  0.755218\n",
       "2        Random Forest  0.789762   0.793774  0.766917  0.780115\n",
       "3            Ada Boost  0.813528   0.797101  0.827068  0.811808\n",
       "4       Gradient Boost  0.755027   0.847368  0.605263  0.706140\n",
       "5             XG Boost  0.769653   0.794118  0.710526  0.750000\n",
       "6                  SVC  0.813528   0.790780  0.838346  0.813869"
      ]
     },
     "execution_count": 46,
     "metadata": {},
     "output_type": "execute_result"
    }
   ],
   "source": [
    "abcd = [['Logistic Regression', accuracy_score(y_test, y_pred_lr), precision_score(y_test, y_pred_lr),\n",
    "          recall_score(y_test, y_pred_lr), f1_score(y_test, y_pred_lr)],\n",
    "        ['Decision Tree', accuracy_score(y_test, y_pred_dt), precision_score(y_test, y_pred_dt),\n",
    "          recall_score(y_test, y_pred_dt), f1_score(y_test, y_pred_dt)],\n",
    "        ['Random Forest', accuracy_score(y_test, y_pred_rf), precision_score(y_test, y_pred_rf),\n",
    "          recall_score(y_test, y_pred_rf), f1_score(y_test, y_pred_rf)],\n",
    "        ['Ada Boost', accuracy_score(y_test, y_pred_ab), precision_score(y_test, y_pred_ab),\n",
    "          recall_score(y_test, y_pred_ab), f1_score(y_test, y_pred_ab)],\n",
    "        ['Gradient Boost', accuracy_score(y_test, y_pred_gb), precision_score(y_test, y_pred_gb),\n",
    "          recall_score(y_test, y_pred_gb), f1_score(y_test, y_pred_gb)],\n",
    "        ['XG Boost', accuracy_score(y_test, y_pred_xg), precision_score(y_test, y_pred_xg),\n",
    "          recall_score(y_test, y_pred_xg), f1_score(y_test, y_pred_xg)],\n",
    "        ['SVC', accuracy_score(y_test, y_pred_sv), precision_score(y_test, y_pred_sv),\n",
    "          recall_score(y_test, y_pred_sv), f1_score(y_test, y_pred_sv)]]\n",
    "\n",
    "df_score = pd.DataFrame(abcd,columns=['Model', 'Accuracy', 'Precision', 'Recall', 'F1 Score'],dtype=float)\n",
    "df_score"
   ]
  },
  {
   "cell_type": "markdown",
   "id": "b9b373b9",
   "metadata": {},
   "source": [
    "SVC, Logistic Regression, and Ada Boost have similar score, but we will choose SVC as our final model"
   ]
  },
  {
   "cell_type": "code",
   "execution_count": 47,
   "id": "860ad978",
   "metadata": {
    "ExecuteTime": {
     "end_time": "2022-07-14T09:16:38.328007Z",
     "start_time": "2022-07-14T09:16:38.221210Z"
    }
   },
   "outputs": [
    {
     "name": "stdout",
     "output_type": "stream",
     "text": [
      "              precision    recall  f1-score   support\n",
      "\n",
      "           0       0.84      0.79      0.81       281\n",
      "           1       0.79      0.84      0.81       266\n",
      "\n",
      "    accuracy                           0.81       547\n",
      "   macro avg       0.81      0.81      0.81       547\n",
      "weighted avg       0.81      0.81      0.81       547\n",
      "\n"
     ]
    }
   ],
   "source": [
    "# classification_report\n",
    "print(classification_report(y_test, y_pred_sv))"
   ]
  },
  {
   "cell_type": "code",
   "execution_count": 50,
   "id": "b5e01ce0",
   "metadata": {
    "ExecuteTime": {
     "end_time": "2022-07-14T09:17:18.857281Z",
     "start_time": "2022-07-14T09:17:18.537620Z"
    }
   },
   "outputs": [
    {
     "data": {
      "text/plain": [
       "<AxesSubplot:>"
      ]
     },
     "execution_count": 50,
     "metadata": {},
     "output_type": "execute_result"
    },
    {
     "data": {
      "image/png": "[encoded data removed]",
      "text/plain": [
       "<Figure size 432x432 with 2 Axes>"
      ]
     },
     "metadata": {
      "needs_background": "light"
     },
     "output_type": "display_data"
    }
   ],
   "source": [
    "cf_matrix = confusion_matrix(y_test, y_pred_sv)\n",
    "\n",
    "group_names = [\"True Positive\", \"False Negative\", \"False Positive\", \"True Negative\"]\n",
    "group_counts = [\"{0:0.0f}\".format(value) for value in cf_matrix.flatten()]\n",
    "group_percentages = [\"{0:.2%}\".format(value) for value in cf_matrix.flatten()/np.sum(cf_matrix)]\n",
    "\n",
    "labels = [f\"{v1}\\n{v2}\\n{v3}\" for v1, v2, v3 in zip(group_names,group_counts,group_percentages)]\n",
    "labels = np.asarray(labels).reshape(2,2)\n",
    "\n",
    "plt.figure(figsize=(6, 6))\n",
    "sns.heatmap(cf_matrix, annot=labels, fmt='', cmap='Blues')"
   ]
  },
  {
   "cell_type": "markdown",
   "id": "9e7666d6",
   "metadata": {},
   "source": [
    "# Testing"
   ]
  },
  {
   "cell_type": "code",
   "execution_count": 56,
   "id": "dbdbae41",
   "metadata": {
    "ExecuteTime": {
     "end_time": "2022-07-14T09:19:33.190586Z",
     "start_time": "2022-07-14T09:19:33.183289Z"
    }
   },
   "outputs": [],
   "source": [
    "test1 = ['That was fantastic food, I am so happy to be here!!!']\n",
    "test2 = ['Soggy and too salty!']\n",
    "test3 = ['Too expensive, not worth for the price']\n",
    "test4 = ['Bad Services! We will not be going back to your restaurant!!']\n",
    "test5 = ['I will be back many times soon, your food is really good and Prices were good']\n",
    "test6 = ['Hot Ramen Level 5 is so good, it was really amazing']\n",
    "         \n",
    "test_group = [test1, test2, test3, test4, test5, test6]"
   ]
  },
  {
   "cell_type": "code",
   "execution_count": 57,
   "id": "31c3b7e8",
   "metadata": {
    "ExecuteTime": {
     "end_time": "2022-07-14T09:19:34.581133Z",
     "start_time": "2022-07-14T09:19:34.477363Z"
    }
   },
   "outputs": [
    {
     "name": "stdout",
     "output_type": "stream",
     "text": [
      "This text is Positive Sentiment :\n",
      "['That was fantastic food, I am so happy to be here!!!']\n",
      "\n",
      "\n",
      "This text is Negative Sentiment :\n",
      "['Soggy and too salty!']\n",
      "\n",
      "\n",
      "This text is Negative Sentiment :\n",
      "['Too expensive, not worth for the price']\n",
      "\n",
      "\n",
      "This text is Negative Sentiment :\n",
      "['Bad Services! We will not be going back to your restaurant!!']\n",
      "\n",
      "\n",
      "This text is Positive Sentiment :\n",
      "['I will be back many times soon, your food is really good and Prices were good']\n",
      "\n",
      "\n",
      "This text is Positive Sentiment :\n",
      "['Hot Ramen Level 5 is so good, it was really amazing']\n",
      "\n",
      "\n"
     ]
    }
   ],
   "source": [
    "for i in test_group:\n",
    "    pred = sv.predict(i)\n",
    "    if pred == 0:\n",
    "        print('This text is Negative Sentiment :')\n",
    "        print(i)\n",
    "    else:\n",
    "        print('This text is Positive Sentiment :')\n",
    "        print(i)\n",
    "        \n",
    "    print('\\n')"
   ]
  }
 ],
 "metadata": {
  "kernelspec": {
   "display_name": "Python 3 (ipykernel)",
   "language": "python",
   "name": "python3"
  },
  "language_info": {
   "codemirror_mode": {
    "name": "ipython",
    "version": 3
   },
   "file_extension": ".py",
   "mimetype": "text/x-python",
   "name": "python",
   "nbconvert_exporter": "python",
   "pygments_lexer": "ipython3",
   "version": "3.9.7"
  },
  "toc": {
   "base_numbering": 1,
   "nav_menu": {},
   "number_sections": true,
   "sideBar": true,
   "skip_h1_title": false,
   "title_cell": "Table of Contents",
   "title_sidebar": "Contents",
   "toc_cell": false,
   "toc_position": {},
   "toc_section_display": true,
   "toc_window_display": true
  }
 },
 "nbformat": 4,
 "nbformat_minor": 5
}
